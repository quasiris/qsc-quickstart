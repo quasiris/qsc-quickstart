{
 "cells": [
  {
   "cell_type": "markdown",
   "id": "e5040f8e-4238-4bb3-be14-1da729c75cb2",
   "metadata": {
    "tags": []
   },
   "source": [
    "# QSC-Quickstart\n",
    "## Goal of this guide\n",
    "At the end of this quickstart guide you will have your data fed to the quasiris search cloud, so you can integrate it in your system.\n",
    "\n",
    "## Register\n",
    "- Create an account. Visit https://qsc.quasiris.de and click registration.\n",
    "- Contact us, your account needs to be unlocked."
   ]
  },
  {
   "cell_type": "markdown",
   "id": "1184f2c4-7086-4818-8e9a-6fcb3525e3c1",
   "metadata": {
    "jp-MarkdownHeadingCollapsed": true,
    "tags": []
   },
   "source": [
    "## Create a basic configuration\n",
    "- After your account is activated visit https://qsc.quasiris.de and login.\n",
    "- You need to create an index and a feeding interface. Click on \"Quick Start\" as shown in the picture below:\n",
    "\n",
    "![Quick Start](resources/pictures/qsc_home_screen.png)\n",
    "\n",
    "- You should look at the following screen:\n",
    "\n",
    "![Quick Start Home](resources/pictures/qsc_quickstart_home.png)\n",
    "\n",
    "- \"Enter Code\": This is the name of your index. You can choose whatever name you want. It's used to identify the index and other modules realated to this index, as you can create more than one index.\n",
    "- In the field below you define the data fields you want to make searchable. In our example we are using **\"id\"**, **\"name\"**, and **\"title\"**. Those are formatted as json.\n",
    "- **Important Note:** If your products have attributs like \"color\", \"wight\", \"width\", \"height\" etc. don't add them to the field you want to make searchable. Those are handeld seperate. The same goes for categories, if your dataset is categorized.<br>Due to this fact there are some special names you don't want to use as a key:<br>**Fields reserved by the qsc: \"attributes\" and \"categories\"**\n",
    "- So let's enter our fields. As the code we are going to use **\"quickstart-index\"**:\n",
    "\n",
    "![Quick Start Data Fields](resources/pictures/qsc_quickstart_enter_data_fields.png)\n",
    "\n",
    "- Click create search. Next you can specify the language. Don't forget to hit \"save\" if you change something before clicking \"next\"\n",
    "\n",
    "![Quick Start General](resources/pictures/qsc_quickstart_general.png)\n",
    "\n",
    "- In the next screen you can check and edit the type of the data fields. In out case everything is correct. \"id\", \"name\" and \"title\" are all recognized as a string. If you want to make changes click the orange pen on the top right (shown in picture below). When you're done editing click the pen again, save and then next.\n",
    "\n",
    "![Quick Start General](resources/pictures/qsc_quickstart_edit_data_fields.png)\n",
    "\n",
    "- The following screens **Ranking** and **Settings** are not relevant to get you started. Simply click next. You can change settings later as you need to.\n",
    "\n",
    "- At the end you will get a short summary. The most important part is the **API key feeding**. You need this key to feed data to your index, so copy it and save is somewhere safe. Don't worry if you lose this key you can display the key later in the web interface or generate a new one.\n",
    "\n",
    "![Quick Start Summary](resources/pictures/qsc_quickstart_summary.png)\n",
    "\n",
    "Now you're all set to start feeding your data to the qsc."
   ]
  },
  {
   "cell_type": "markdown",
   "id": "870ffd6d-fb2f-4f0b-8b8d-601ddf50d3b2",
   "metadata": {
    "tags": []
   },
   "source": [
    "## Feed data to your index\n",
    "- The very first thing you have to do is to convert your data to the format the qsc is using. The format is described under: [Data format qsc](https://quasiris-search-cloud.com/docs/qsc-admin/admin/feeding/feeding-api-integration#data-structure)<br>If you have trouble converting your data, just contact us. We will write you a converter to convert your data to the format the qsc is using.\n",
    "\n",
    "## Example\n",
    "- The example below shows how to feed data to the qsc using the api."
   ]
  },
  {
   "cell_type": "markdown",
   "id": "e40ee6f3-7eae-45f9-a456-e0ee3d5d2b5b",
   "metadata": {},
   "source": [
    "### Resolve all dependencies"
   ]
  },
  {
   "cell_type": "code",
   "execution_count": 1,
   "id": "93d3d249-8286-4c9a-959d-16d39a9cb15c",
   "metadata": {},
   "outputs": [],
   "source": [
    "# Resolve all dependencies\n",
    "import io_utils\n",
    "import json\n",
    "import re\n",
    "import getpass\n",
    "import time"
   ]
  },
  {
   "cell_type": "markdown",
   "id": "281cbce0-5377-4a5e-8b85-13bd907758cf",
   "metadata": {},
   "source": [
    "### API credentials\n",
    "- API URL: The api url has the following format: https://qsc-dev.quasiris.de/api/v1/data/bulk/qsc/[tenant]/[feeding-code]<br>\n",
    "  - Tenant: The tentant is shown on the top right (see picture below). In our case it's **quickstart**<br>\n",
    "  ![Tenant](resources/pictures/qsc_home_screen_tenant.png)<br>\n",
    "  - Feeding Code: The feeding-code should be identical to the code you assigned above using the \"Quick Start\"     option of the qsc. In our case it's **quickstart-index**<br>\n",
    "  - In our case the API URL is: https://qsc-dev.quasiris.de/api/v1/data/bulk/qsc/quickstart/quickstart-index\n",
    "- API token: The token you got in the summary of the \"Quick Start\" option above (**API key feeding**)."
   ]
  },
  {
   "cell_type": "code",
   "execution_count": 2,
   "id": "b9cfd01e-e38c-4a4b-aa34-80c5d7cff188",
   "metadata": {},
   "outputs": [
    {
     "name": "stdin",
     "output_type": "stream",
     "text": [
      "API URL:  https://qsc-dev.quasiris.de/api/v1/data/bulk/qsc/quickstart/quickstart-index\n",
      "API token:  ········\n"
     ]
    }
   ],
   "source": [
    "# Read parameters\n",
    "\n",
    "# Get api url\n",
    "url = input(\"API URL: \")\n",
    "\n",
    "# Get api token\n",
    "token = getpass.getpass(\"API token: \")\n",
    "\n",
    "# Generate headers\n",
    "headers = {\"Content-type\": \"application/json\", \"X-QSC-Token\": token}"
   ]
  },
  {
   "cell_type": "markdown",
   "id": "90b54bd2-eb18-4413-a782-c0c17e4cb491",
   "metadata": {},
   "source": [
    "### Load products and push to API"
   ]
  },
  {
   "cell_type": "code",
   "execution_count": 3,
   "id": "a34a63f4-d69c-4a67-8be6-9c5ea12e8c54",
   "metadata": {},
   "outputs": [
    {
     "name": "stdout",
     "output_type": "stream",
     "text": [
      "Batch number 1 sent!\n",
      "Batch number 2 sent!\n",
      "Batch number 3 sent!\n",
      "Remaining 50 products sent!\n",
      "A total of 350 products were sent to api!\n"
     ]
    }
   ],
   "source": [
    "# Load products and convert them to qsc format\n",
    "products = io_utils.convert_icecat_to_qsc(\"resources/350-sample-products.json\")\n",
    "\n",
    "# Send 100 products in one batch to api\n",
    "batch_size = 100\n",
    "\n",
    "# Helper variables\n",
    "batch = []\n",
    "product_counter = 0\n",
    "batch_counter = 0\n",
    "\n",
    "# Iterate through products and feed batch wise\n",
    "for product in products:\n",
    "    batch.append(product)\n",
    "    product_counter += 1\n",
    "    \n",
    "    # If batch size is reached send batch to api and reset batch\n",
    "    if product_counter == batch_size:\n",
    "        time.sleep(1)\n",
    "        io_utils.feed_api(url, batch, headers)\n",
    "        batch_counter += 1\n",
    "        print(f\"Batch number {batch_counter} sent!\")\n",
    "        batch.clear()\n",
    "        product_counter = 0\n",
    "\n",
    "# Send remaining products\n",
    "if bool(batch):\n",
    "    time.sleep(1)\n",
    "    io_utils.feed_api(url, batch, headers)\n",
    "    print(f\"Remaining {product_counter} products sent!\")\n",
    "\n",
    "# Print number of products sent to api\n",
    "print(f\"A total of {((batch_counter * batch_size) + product_counter)} products were sent to api!\")"
   ]
  },
  {
   "cell_type": "markdown",
   "id": "dc4b97f5-fa13-4818-9a72-ad1896eba0cc",
   "metadata": {},
   "source": [
    "## Check if products are available in index\n",
    "- Go to Search->[your code]: Click \"search\" tab. On the top right you should see how much products your index is holding.\n",
    "- **Note:** We pushed 35**0** products to the api but our index is holding 35**1** products.<br>\n",
    "That's because we used the example data at the beginning when using the \"Quick Start\" guide to create a product and initialize some things. You can delete that product if you want.\n",
    "![Search](resources/pictures/qsc_search.png)"
   ]
  }
 ],
 "metadata": {
  "kernelspec": {
   "display_name": "Python 3 (ipykernel)",
   "language": "python",
   "name": "python3"
  },
  "language_info": {
   "codemirror_mode": {
    "name": "ipython",
    "version": 3
   },
   "file_extension": ".py",
   "mimetype": "text/x-python",
   "name": "python",
   "nbconvert_exporter": "python",
   "pygments_lexer": "ipython3",
   "version": "3.10.6"
  }
 },
 "nbformat": 4,
 "nbformat_minor": 5
}
