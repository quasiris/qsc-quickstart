{
 "cells": [
  {
   "cell_type": "markdown",
   "id": "e5040f8e-4238-4bb3-be14-1da729c75cb2",
   "metadata": {
    "tags": []
   },
   "source": [
    "# QSC-Quickstart\n",
    "## Goal of this guide\n",
    "At the end of this quickstart guide you will have your data fed to the quasiris search cloud, so you can integrate it in your system.\n",
    "\n",
    "## Register\n",
    "- Create an account. Visit https://qsc.quasiris.de and click registration.\n",
    "- Contact us, your account needs to be unlocked."
   ]
  },
  {
   "cell_type": "markdown",
   "id": "1184f2c4-7086-4818-8e9a-6fcb3525e3c1",
   "metadata": {
    "tags": []
   },
   "source": [
    "## Create a basic configuration\n",
    "- After your account is activated visit https://qsc.quasiris.de and login.\n",
    "- You need to create an index and a feeding interface. Click on \"Quick Start\" as shown in the picture below:\n",
    "\n",
    "![Quick Start](resources/pictures/qsc_home_screen.png)\n",
    "\n",
    "- You should look at the following screen:\n",
    "\n",
    "![Quick Start Home](resources/pictures/qsc_quickstart_home.png)\n",
    "\n",
    "- \"Enter Code\": This is the name of your index. You can choose whatever name you want. It's used to identify the index and other modules realated to this index, as you can create more than one index.\n",
    "- In the field below you define the data fields you want to make searchable. In our example we are using **\"id\"**, **\"name\"**, and **\"title\"**. Those are formatted as json.\n",
    "- **Important Note:** If your products have attributs like \"color\", \"wight\", \"width\", \"height\" etc. don't add them to the field you want to make searchable. Those are handeld seperate. The same goes for categories, if your dataset is categorized.<br>Due to this fact there are some special names you don't want to use as a key:<br>**Fields reserved by the qsc: \"attributes\" and \"categories\"**\n",
    "- So let's enter our fields. As the code we are going to use **\"quickstart-index\"**:\n",
    "\n",
    "![Quick Start Data Fields](resources/pictures/qsc_quickstart_enter_data_fields.png)\n",
    "\n",
    "- Click create search. Next you can specify the language. Don't forget to hit \"save\" if you change something before clicking \"next\"\n",
    "\n",
    "![Quick Start General](resources/pictures/qsc_quickstart_general.png)\n",
    "\n",
    "- In the next screen you can check and edit the type of the data fields. In out case everything is correct. \"id\", \"name\" and \"title\" are all recognized as a string. If you want to make changes click the orange pen on the top right (shown in picture below). When you're done editing click the pen again, save and then next.\n",
    "\n",
    "![Quick Start General](resources/pictures/qsc_quickstart_edit_data_fields.png)\n",
    "\n",
    "- The following screens **Ranking** and **Settings** are not relevant to get you started. Simply click next. You can change settings later as you need to.\n",
    "\n",
    "- At the end you will get a short summary. The most important part is the **API key feeding**. You need this key to feed data to your index, so copy it and save is somewhere safe. Don't worry if you lose this key you can display the key later in the web interface or generate a new one.\n",
    "\n",
    "![Quick Start Summary](resources/pictures/qsc_quickstart_summary.png)\n",
    "\n",
    "Now you're all set to start feeding your data to the qsc."
   ]
  },
  {
   "cell_type": "markdown",
   "id": "870ffd6d-fb2f-4f0b-8b8d-601ddf50d3b2",
   "metadata": {
    "tags": []
   },
   "source": [
    "## Feed data to your index\n",
    "- The very first thing you have to do is to convert your data to the format the qsc is using. The format is described under: [Data format qsc](https://quasiris-search-cloud.com/docs/qsc-admin/admin/feeding/feeding-api-integration#data-structure)<br>If you have trouble converting your data, just contact us. We will write you a converter to convert your data to the format the qsc is using."
   ]
  }
 ],
 "metadata": {
  "kernelspec": {
   "display_name": "Python 3 (ipykernel)",
   "language": "python",
   "name": "python3"
  },
  "language_info": {
   "codemirror_mode": {
    "name": "ipython",
    "version": 3
   },
   "file_extension": ".py",
   "mimetype": "text/x-python",
   "name": "python",
   "nbconvert_exporter": "python",
   "pygments_lexer": "ipython3",
   "version": "3.10.6"
  }
 },
 "nbformat": 4,
 "nbformat_minor": 5
}
